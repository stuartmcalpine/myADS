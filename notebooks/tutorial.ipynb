{
 "cells": [
  {
   "cell_type": "markdown",
   "metadata": {},
   "source": [
    "# Astronomy Data System (ADS) API Wrapper Tutorial\n",
    "\n",
    "This notebook demonstrates how to use the improved ADS API wrapper to query the NASA Astrophysics Data System. The wrapper provides a simplified interface for searching papers, retrieving citations, and analyzing academic publications in astronomy and astrophysics.\n",
    "\n",
    "## Setup\n",
    "\n",
    "First, you'll need to obtain an API key from the ADS service:\n",
    "1. Go to https://ui.adsabs.harvard.edu/\n",
    "2. Create an account or sign in\n",
    "3. Go to 'Account' → 'API Token' and generate a token\n",
    "\n",
    "Let's start by importing the necessary modules and setting up our API key."
   ]
  },
  {
   "cell_type": "code",
   "execution_count": null,
   "metadata": {},
   "outputs": [],
   "source": [
    "import os\n",
    "import pandas as pd\n",
    "import matplotlib.pyplot as plt\n",
    "import seaborn as sns\n",
    "import numpy as np\n",
    "from IPython.display import display, HTML\n",
    "\n",
    "# Import our ADS wrapper module\n",
    "from myads import ADSQueryWrapper\n",
    "\n",
    "# Set up API key (replace with your own or use environment variable)\n",
    "# For security, it's better to use an environment variable\n",
    "ADS_API_TOKEN = os.environ.get('ADS_API_TOKEN', 'your_api_token')\n",
    "\n",
    "# Create the wrapper instance\n",
    "ads = ADSQueryWrapper(ADS_API_TOKEN)"
   ]
  },
  {
   "cell_type": "markdown",
   "metadata": {},
   "source": [
    "## Basic Search\n",
    "\n",
    "Let's start with a basic search for papers. We'll search for recent papers about exoplanets."
   ]
  },
  {
   "cell_type": "code",
   "execution_count": null,
   "metadata": {},
   "outputs": [],
   "source": [
    "# Define search parameters\n",
    "query = \"title:exoplanet AND year:2023\"\n",
    "fields = \"title,author,bibcode,citation_count,read_count,pubdate\"\n",
    "\n",
    "# Execute the search\n",
    "result = ads.get(query, fields, sort=\"citation_count desc\", rows=10)\n",
    "\n",
    "# Display metadata about the search\n",
    "print(f\"Query execution time: {result.query_time} ms\")\n",
    "print(f\"Total papers found: {result.num_found}\")\n",
    "print(f\"Retrieved papers: {len(result.papers_df)}\")"
   ]
  },
  {
   "cell_type": "markdown",
   "metadata": {},
   "source": [
    "Now let's examine the results using the DataFrame that was created:"
   ]
  },
  {
   "cell_type": "code",
   "execution_count": null,
   "metadata": {},
   "outputs": [],
   "source": [
    "# Display the DataFrame with the search results\n",
    "result.papers_df.head()"
   ]
  },
  {
   "cell_type": "markdown",
   "metadata": {},
   "source": [
    "## Working with Paper Objects\n",
    "\n",
    "The wrapper also provides a convenient `papers` property that returns `ADSPaper` objects. Let's examine some of these papers."
   ]
  },
  {
   "cell_type": "code",
   "execution_count": null,
   "metadata": {},
   "outputs": [],
   "source": [
    "# Loop through the first few papers\n",
    "for i, paper in enumerate(result.papers):\n",
    "    if i >= 3:  # Just show the first 3\n",
    "        break\n",
    "        \n",
    "    print(f\"Paper {i+1}:\")\n",
    "    print(f\"  Title: {paper.title}\")\n",
    "    print(f\"  Authors: {paper.author[0] if isinstance(paper.author, list) else paper.author}...\")\n",
    "    print(f\"  Citations: {paper.citation_count}\")\n",
    "    print(f\"  ADS Link: {paper.ads_link}\")\n",
    "    print()"
   ]
  },
  {
   "cell_type": "markdown",
   "metadata": {},
   "source": [
    "## Finding Citations\n",
    "\n",
    "One common use case is finding papers that cite a specific publication. Let's take one of the papers we found and see who has cited it."
   ]
  },
  {
   "cell_type": "code",
   "execution_count": null,
   "metadata": {},
   "outputs": [],
   "source": [
    "# Get the bibcode of the most cited paper from our search\n",
    "top_paper_bibcode = result.papers_df.iloc[0]['bibcode']\n",
    "top_paper_title = result.papers_df.iloc[0]['title']\n",
    "\n",
    "print(f\"Finding citations for: {top_paper_title}\")\n",
    "print(f\"Bibcode: {top_paper_bibcode}\")\n",
    "\n",
    "# Query for citations\n",
    "citations = ads.citations(\n",
    "    top_paper_bibcode,\n",
    "    fl=\"title,author,bibcode,pubdate,citation_count\",\n",
    "    rows=20\n",
    ")\n",
    "\n",
    "print(f\"\\nFound {citations.num_found} papers that cite this work\")\n",
    "citations.papers_df[['title', 'pubdate', 'citation_count']].head(5)"
   ]
  },
  {
   "cell_type": "markdown",
   "metadata": {},
   "source": [
    "## Finding References\n",
    "\n",
    "Similarly, we can find papers that are referenced by a specific publication."
   ]
  },
  {
   "cell_type": "code",
   "execution_count": null,
   "metadata": {},
   "outputs": [],
   "source": [
    "# Query for references\n",
    "references = ads.references(\n",
    "    top_paper_bibcode,\n",
    "    fl=\"title,author,bibcode,pubdate,citation_count\",\n",
    "    rows=20\n",
    ")\n",
    "\n",
    "print(f\"Found {references.num_found} papers referenced by this work\")\n",
    "\n",
    "# Show the referenced papers\n",
    "references.papers_df[['title', 'pubdate', 'citation_count']].head(5)"
   ]
  },
  {
   "cell_type": "markdown",
   "metadata": {},
   "source": [
    "## Author Search\n",
    "\n",
    "Let's search for papers by a specific author and analyze their publication history."
   ]
  },
  {
   "cell_type": "code",
   "execution_count": null,
   "metadata": {},
   "outputs": [],
   "source": [
    "# Search for papers by a well-known astronomer\n",
    "author = \"Seager, S.\"\n",
    "author_papers = ads.search_author(\n",
    "    author,\n",
    "    fl=\"title,bibcode,author,citation_count,pubdate,read_count\",\n",
    "    sort=\"citation_count desc\",\n",
    "    rows=100\n",
    ")\n",
    "\n",
    "print(f\"Found {author_papers.num_found} papers by {author}\")\n",
    "print(f\"Retrieved {len(author_papers.papers_df)} papers\")\n",
    "\n",
    "# Show the most cited papers\n",
    "author_papers.papers_df[['title', 'citation_count', 'years_since_pub']].head(5)"
   ]
  },
  {
   "cell_type": "markdown",
   "metadata": {},
   "source": [
    "## Visualization: Publication History\n",
    "\n",
    "Let's visualize the author's publication history."
   ]
  },
  {
   "cell_type": "code",
   "execution_count": null,
   "metadata": {},
   "outputs": [],
   "source": [
    "# Extract publication years\n",
    "author_papers.papers_df['pub_year'] = author_papers.papers_df['pubdate'].apply(\n",
    "    lambda x: int(x.split('-')[0]) if isinstance(x, str) and '-' in x else np.nan\n",
    ")\n",
    "\n",
    "# Count publications per year\n",
    "pub_counts = author_papers.papers_df['pub_year'].value_counts().sort_index()\n",
    "\n",
    "# Plot\n",
    "plt.figure(figsize=(12, 6))\n",
    "pub_counts.plot(kind='bar', color='skyblue')\n",
    "plt.title(f'Publications by {author} per Year')\n",
    "plt.xlabel('Year')\n",
    "plt.ylabel('Number of Publications')\n",
    "plt.grid(axis='y', linestyle='--', alpha=0.7)\n",
    "plt.tight_layout()\n",
    "plt.show()"
   ]
  },
  {
   "cell_type": "markdown",
   "metadata": {},
   "source": [
    "## Visualization: Citation Impact\n",
    "\n",
    "Now let's analyze the citation impact of the author's papers."
   ]
  },
  {
   "cell_type": "code",
   "execution_count": null,
   "metadata": {},
   "outputs": [],
   "source": [
    "# Create a scatter plot of citations vs. years since publication\n",
    "plt.figure(figsize=(12, 8))\n",
    "plt.scatter(\n",
    "    author_papers.papers_df['years_since_pub'],\n",
    "    author_papers.papers_df['citation_count'],\n",
    "    alpha=0.7,\n",
    "    c=author_papers.papers_df['citation_count_per_year'],\n",
    "    cmap='viridis',\n",
    "    s=100\n",
    ")\n",
    "\n",
    "plt.colorbar(label='Citations per Year')\n",
    "plt.title(f'Citation Impact of Papers by {author}')\n",
    "plt.xlabel('Years Since Publication')\n",
    "plt.ylabel('Total Citations')\n",
    "plt.grid(True, alpha=0.3)\n",
    "plt.tight_layout()\n",
    "plt.show()"
   ]
  },
  {
   "cell_type": "markdown",
   "metadata": {},
   "source": [
    "## Using Pagination to Get All Results\n",
    "\n",
    "The ADS API limits the number of results per query to 2000. Let's use the pagination feature to get more results if needed."
   ]
  },
  {
   "cell_type": "code",
   "execution_count": null,
   "metadata": {},
   "outputs": [],
   "source": [
    "# Search for a broader topic that might have many papers\n",
    "query = \"title:galaxy AND title:evolution\"\n",
    "fields = \"title,bibcode,author,citation_count,pubdate\"\n",
    "\n",
    "# Get multiple pages of results (limited to 300 for this example)\n",
    "all_results = ads.get_all_results(query, fields, sort=\"citation_count desc\", max_results=3000)\n",
    "\n",
    "print(f\"Retrieved {len(all_results)} pages of results\")\n",
    "\n",
    "# Combine all DataFrames\n",
    "combined_df = pd.concat([page.papers_df for page in all_results], ignore_index=True) if all_results else None\n",
    "\n",
    "print(f\"Total papers retrieved: {len(combined_df)}\")\n",
    "combined_df.head()"
   ]
  },
  {
   "cell_type": "markdown",
   "metadata": {},
   "source": [
    "## Advanced Analysis: Finding Collaboration Networks\n",
    "\n",
    "Let's do a more advanced analysis to find frequent collaborators of our author."
   ]
  },
  {
   "cell_type": "code",
   "execution_count": null,
   "metadata": {},
   "outputs": [],
   "source": [
    "# Extract all co-authors\n",
    "co_authors = {}\n",
    "\n",
    "for paper in author_papers.papers:\n",
    "    if hasattr(paper, 'author') and isinstance(paper.author, list):\n",
    "        for co_author in paper.author:\n",
    "            if co_author != author:  # Skip the main author\n",
    "                co_authors[co_author] = co_authors.get(co_author, 0) + 1\n",
    "\n",
    "# Create DataFrame of collaborators\n",
    "collaborators_df = pd.DataFrame({\n",
    "    'co_author': list(co_authors.keys()),\n",
    "    'papers_together': list(co_authors.values())\n",
    "}).sort_values('papers_together', ascending=False)\n",
    "\n",
    "# Display top collaborators\n",
    "print(f\"Top collaborators with {author}:\")\n",
    "collaborators_df.head(10)"
   ]
  },
  {
   "cell_type": "markdown",
   "metadata": {},
   "source": [
    "## Visualizing Top Collaborators"
   ]
  },
  {
   "cell_type": "code",
   "execution_count": null,
   "metadata": {},
   "outputs": [],
   "source": [
    "# Plot top 15 collaborators\n",
    "plt.figure(figsize=(12, 8))\n",
    "top_n = 15\n",
    "top_collaborators = collaborators_df.head(top_n)\n",
    "\n",
    "# Create horizontal bar plot\n",
    "sns.barplot(data=top_collaborators, y='co_author', x='papers_together', palette='viridis')\n",
    "plt.title(f'Top {top_n} Collaborators with {author}')\n",
    "plt.xlabel('Number of Papers Together')\n",
    "plt.ylabel('Co-author')\n",
    "plt.tight_layout()\n",
    "plt.show()"
   ]
  },
  {
   "cell_type": "markdown",
   "metadata": {},
   "source": [
    "## Research Topic Analysis\n",
    "\n",
    "Let's analyze the research topics by looking at paper titles."
   ]
  },
  {
   "cell_type": "code",
   "execution_count": null,
   "metadata": {},
   "outputs": [],
   "source": [
    "# Simple word count analysis from titles\n",
    "from collections import Counter\n",
    "import re\n",
    "\n",
    "# Common words to exclude\n",
    "stop_words = {'the', 'a', 'an', 'and', 'in', 'of', 'to', 'for', 'on', 'with', 'from'}\n",
    "\n",
    "# Extract words from titles\n",
    "all_words = []\n",
    "for title in author_papers.papers_df['title']:\n",
    "    if isinstance(title, str):\n",
    "        words = re.findall(r'\\b[a-zA-Z]{3,}\\b', title.lower())\n",
    "        all_words.extend([w for w in words if w not in stop_words])\n",
    "\n",
    "# Count words\n",
    "word_counts = Counter(all_words)\n",
    "top_words = pd.DataFrame({\n",
    "    'word': list(word_counts.keys()),\n",
    "    'count': list(word_counts.values())\n",
    "}).sort_values('count', ascending=False)\n",
    "\n",
    "# Display top words\n",
    "print(f\"Most common words in paper titles by {author}:\")\n",
    "top_words.head(15)"
   ]
  },
  {
   "cell_type": "markdown",
   "metadata": {},
   "source": [
    "## Creating a Word Cloud"
   ]
  },
  {
   "cell_type": "code",
   "execution_count": null,
   "metadata": {},
   "outputs": [],
   "source": [
    "# Create a word cloud\n",
    "try:\n",
    "    from wordcloud import WordCloud\n",
    "    \n",
    "    # Generate word cloud\n",
    "    wordcloud = WordCloud(width=800, height=400, background_color='white', \n",
    "                          max_words=100, contour_width=3, contour_color='steelblue')\n",
    "    \n",
    "    # Generate from frequencies\n",
    "    wordcloud.generate_from_frequencies(word_counts)\n",
    "    \n",
    "    # Display\n",
    "    plt.figure(figsize=(16, 8))\n",
    "    plt.imshow(wordcloud, interpolation='bilinear')\n",
    "    plt.axis('off')\n",
    "    plt.title(f'Common Research Topics in Papers by {author}', fontsize=16)\n",
    "    plt.tight_layout()\n",
    "    plt.show()\n",
    "except ImportError:\n",
    "    print(\"WordCloud package not installed. Install with: pip install wordcloud\")"
   ]
  },
  {
   "cell_type": "markdown",
   "metadata": {},
   "source": [
    "## Comparative Analysis\n",
    "\n",
    "Let's compare the publication patterns of two researchers in the same field."
   ]
  },
  {
   "cell_type": "code",
   "execution_count": null,
   "metadata": {},
   "outputs": [],
   "source": [
    "# Define a second author to compare with\n",
    "author2 = \"Marcy, G.\"\n",
    "\n",
    "# Get papers for the second author\n",
    "author2_papers = ads.search_author(\n",
    "    author2,\n",
    "    fl=\"title,bibcode,author,citation_count,pubdate,read_count\",\n",
    "    sort=\"citation_count desc\",\n",
    "    rows=100\n",
    ")\n",
    "\n",
    "print(f\"Found {author2_papers.num_found} papers by {author2}\")\n",
    "\n",
    "# Extract publication years for both authors\n",
    "author2_papers.papers_df['pub_year'] = author2_papers.papers_df['pubdate'].apply(\n",
    "    lambda x: int(x.split('-')[0]) if isinstance(x, str) and '-' in x else np.nan\n",
    ")\n",
    "\n",
    "# Count publications per year for second author\n",
    "pub_counts2 = author2_papers.papers_df['pub_year'].value_counts().sort_index()\n",
    "\n",
    "# Combine data for comparison\n",
    "comparison_df = pd.DataFrame({\n",
    "    f\"{author}\": pub_counts,\n",
    "    f\"{author2}\": pub_counts2\n",
    "}).fillna(0)\n",
    "\n",
    "# Plot comparison\n",
    "plt.figure(figsize=(14, 8))\n",
    "comparison_df.plot(kind='bar', figsize=(14, 8))\n",
    "plt.title(f'Publication Comparison: {author} vs {author2}')\n",
    "plt.xlabel('Year')\n",
    "plt.ylabel('Number of Publications')\n",
    "plt.grid(axis='y', linestyle='--', alpha=0.7)\n",
    "plt.legend()\n",
    "plt.tight_layout()\n",
    "plt.show()"
   ]
  },
  {
   "cell_type": "markdown",
   "metadata": {},
   "source": [
    "## Analyzing Citation Impact over Time\n",
    "\n",
    "Let's compare the citation impact of both authors."
   ]
  },
  {
   "cell_type": "code",
   "execution_count": null,
   "metadata": {},
   "outputs": [],
   "source": [
    "# Calculate average citations per paper by year\n",
    "citation_by_year1 = author_papers.papers_df.groupby('pub_year')['citation_count'].mean()\n",
    "citation_by_year2 = author2_papers.papers_df.groupby('pub_year')['citation_count'].mean()\n",
    "\n",
    "# Combine data\n",
    "citation_comparison = pd.DataFrame({\n",
    "    f\"{author}\": citation_by_year1,\n",
    "    f\"{author2}\": citation_by_year2\n",
    "}).fillna(0)\n",
    "\n",
    "# Plot\n",
    "plt.figure(figsize=(14, 8))\n",
    "citation_comparison.plot(kind='line', marker='o', figsize=(14, 8))\n",
    "plt.title('Average Citations per Paper by Publication Year')\n",
    "plt.xlabel('Publication Year')\n",
    "plt.ylabel('Average Citations')\n",
    "plt.grid(True, alpha=0.3)\n",
    "plt.legend()\n",
    "plt.tight_layout()\n",
    "plt.show()"
   ]
  },
  {
   "cell_type": "markdown",
   "metadata": {},
   "source": [
    "## Finding Related Papers\n",
    "\n",
    "Let's explore papers related to a specific topic and analyze their connections."
   ]
  },
  {
   "cell_type": "code",
   "execution_count": null,
   "metadata": {},
   "outputs": [],
   "source": [
    "# Search for papers on a specific topic\n",
    "topic = \"exoplanet atmospheres\"\n",
    "topic_papers = ads.get(\n",
    "    f\"abs:\\\"{topic}\\\"\",\n",
    "    fl=\"title,abstract,bibcode,author,citation_count,pubdate\",\n",
    "    sort=\"citation_count desc\",\n",
    "    rows=50\n",
    ")\n",
    "\n",
    "print(f\"Found {topic_papers.num_found} papers about {topic}\")\n",
    "\n",
    "# Display the most influential papers\n",
    "topic_papers.papers_df[['title', 'citation_count', 'pubdate']].head(5)"
   ]
  },
  {
   "cell_type": "markdown",
   "metadata": {},
   "source": [
    "## Conclusion\n",
    "\n",
    "In this tutorial, we've explored the various capabilities of the ADS API wrapper:\n",
    "\n",
    "1. Basic paper searches\n",
    "2. Citation analysis\n",
    "3. Author-specific queries\n",
    "4. Publication patterns and metrics\n",
    "5. Collaboration networks\n",
    "6. Research topic analysis\n",
    "7. Comparative bibliometrics\n",
    "\n",
    "The wrapper makes it easy to perform complex queries and analyze publication data for astronomical research. You can extend these examples to build more sophisticated analyses for your specific research needs."
   ]
  }
 ],
 "metadata": {
  "kernelspec": {
   "display_name": "Python 3 (ipykernel)",
   "language": "python",
   "name": "python3"
  },
  "language_info": {
   "codemirror_mode": {
    "name": "ipython",
    "version": 3
   },
   "file_extension": ".py",
   "mimetype": "text/x-python",
   "name": "python",
   "nbconvert_exporter": "python",
   "pygments_lexer": "ipython3",
   "version": "3.11.11"
  }
 },
 "nbformat": 4,
 "nbformat_minor": 4
}
